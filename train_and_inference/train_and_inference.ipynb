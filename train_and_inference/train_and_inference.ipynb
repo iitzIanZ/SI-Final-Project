{
 "cells": [
  {
   "cell_type": "markdown",
   "id": "34eef919",
   "metadata": {},
   "source": [
    "# Train Model(LoRA)"
   ]
  },
  {
   "cell_type": "code",
   "execution_count": null,
   "id": "65a2db6e",
   "metadata": {},
   "outputs": [],
   "source": [
    "!python diffusion_inpainting/lora_finetune.py \\\n",
    "    --data_root \"gen_ft_data\" \\\n",
    "    --output_dir \"lora_10\" \\\n",
    "    --num_train_epochs 10 \\\n",
    "    --train_batch_size 8 \\\n",
    "    --gradient_accumulation_steps 2\\\n",
    "    --learning_rate 1e-4"
   ]
  },
  {
   "cell_type": "markdown",
   "id": "ee8b59a3",
   "metadata": {},
   "source": [
    "# Inference "
   ]
  },
  {
   "cell_type": "code",
   "execution_count": null,
   "id": "f5ffcada",
   "metadata": {},
   "outputs": [],
   "source": [
    "!python inference_script.py \\\n",
    "    --lora_weights_path \"lora_10\" \\\n",
    "    --input_dir \"video/ori_frames\" \\\n",
    "    --output_dir \"inpainted_results_15\" \\"
   ]
  },
  {
   "cell_type": "markdown",
   "id": "cf3d40da",
   "metadata": {},
   "source": [
    "# Convert images to GIF"
   ]
  },
  {
   "cell_type": "code",
   "execution_count": null,
   "id": "593d9d30",
   "metadata": {},
   "outputs": [],
   "source": [
    "!python create_gif_from_frames.py \\\n",
    "    --input_dir \"inpainted_results\" \\\n",
    "    --output_gif_path \"output.gif\" \\\n"
   ]
  }
 ],
 "metadata": {
  "kernelspec": {
   "display_name": "final",
   "language": "python",
   "name": "python3"
  },
  "language_info": {
   "codemirror_mode": {
    "name": "ipython",
    "version": 3
   },
   "file_extension": ".py",
   "mimetype": "text/x-python",
   "name": "python",
   "nbconvert_exporter": "python",
   "pygments_lexer": "ipython3",
   "version": "3.10.18"
  }
 },
 "nbformat": 4,
 "nbformat_minor": 5
}
